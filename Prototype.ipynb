{
 "cells": [
  {
   "cell_type": "code",
   "execution_count": 1,
   "metadata": {
    "collapsed": true,
    "deletable": true,
    "editable": true
   },
   "outputs": [],
   "source": [
    "import asyncio\n",
    "import async_timeout\n",
    "from asyncio_extras.contextmanager import async_contextmanager\n",
    "from asyncio_extras.file import open_async\n",
    "\n",
    "from pathlib import Path\n",
    "import winreg\n",
    "from utils import *\n",
    "import psutil\n",
    "import aiohttp\n",
    "import shelve\n",
    "from collections import namedtuple\n",
    "from boltons.cacheutils import cachedproperty\n",
    "from boltons.strutils import camel2under\n",
    "from tqdm import tqdm_notebook as tqdm\n",
    "import urllib.parse"
   ]
  },
  {
   "cell_type": "code",
   "execution_count": 2,
   "metadata": {
    "collapsed": true,
    "deletable": true,
    "editable": true
   },
   "outputs": [],
   "source": [
    "class cachedclassproperty(object):\n",
    "    def __init__(self, func):\n",
    "        self.__doc__ = getattr(func, '__doc__')\n",
    "        self.func = func\n",
    "\n",
    "    def __get__(self, obj, cls):\n",
    "        value = self.func(cls)\n",
    "        setattr(cls, self.func.__name__, value)\n",
    "        return value\n",
    "\n",
    "    def __repr__(self):\n",
    "        cn = self.__class__.__name__\n",
    "        return '<%s func=%s>' % (cn, self.func)"
   ]
  },
  {
   "cell_type": "code",
   "execution_count": 3,
   "metadata": {
    "collapsed": false,
    "deletable": true,
    "editable": true
   },
   "outputs": [],
   "source": [
    "class Game:\n",
    "    \"\"\"Abstract base class representing a video game.\"\"\"\n",
    "    @classmethod\n",
    "    def get_root_dir(cls, tries=5):\n",
    "        try:\n",
    "            return Path(get_regkey(r'HKLM', rf'SOFTWARE\\WOW6432Node\\Bethesda Softworks\\{cls.REG_NAME}', 'installed path'))\n",
    "        except FileNotFoundError:\n",
    "            if tries:\n",
    "                cls.ping_launcher()\n",
    "                return cls.get_root_dir(tries=(tries - 1))\n",
    "            else:\n",
    "                raise\n",
    "\n",
    "    @classmethod\n",
    "    def ping_launcher(cls):\n",
    "        \"\"\"Start the Launcher and then immediately close it.\"\"\"\n",
    "        cls.start_steam()\n",
    "        for i in range(60):\n",
    "            print('waiting for 1 second')\n",
    "            time.sleep(1)\n",
    "            procs = map(psutil.Process, psutil.pids())\n",
    "            ob_launcher, = (proc for proc in procs if proc.name() == cls.LAUNCHER_EXE)\n",
    "            ob_launcher.kill()\n",
    "    \n",
    "    @classmethod\n",
    "    def start_steam(cls):\n",
    "        os.startfile(f'steam://run/{cls.STEAM_ID}')\n",
    "        \n",
    "    @cachedclassproperty\n",
    "    def root_dir(cls):\n",
    "        return cls.get_root_dir()\n",
    "    \n",
    "    @cachedclassproperty\n",
    "    def game_exe(cls):\n",
    "        return cls.root_dir / cls.GAME_EXE\n",
    "    \n",
    "    @cachedclassproperty\n",
    "    def launcher_exe(cls):\n",
    "        return cls.root_dir / cls.LAUNCHER_EXE\n",
    "    \n",
    "    @cachedclassproperty\n",
    "    def tesxedit_exe(cls):\n",
    "        return cls.root_dir / cls.TESXEDIT_EXE\n",
    "\n",
    "class Oblivion(Game):\n",
    "    REG_NAME = 'oblivion'\n",
    "    STEAM_ID = '22330'\n",
    "    LAUNCHER_EXE = 'OblivionLauncher.exe'\n",
    "    GAME_EXE = 'Oblivion.exe'\n",
    "    TESXEDIT_EXE = 'TES4Edit.exe'\n",
    "    \n",
    "class Config:\n",
    "    DOWNLOADS_DIR = Path(r'W:\\bethmetamod-dls') #TODO\n",
    "    DOWNLOADS_DB = Path(r'W:\\bethmetamod-dls\\downloads.shelve')\n",
    "    MODS_DIR = Path(r'M:\\bethmetamod\\mods')\n",
    "    CHUNK_SIZE = 1024\n",
    "    \n",
    "    @cachedclassproperty\n",
    "    def downloads_db(cls):\n",
    "        return shelve.open(str(cls.DOWNLOADS_DB))\n",
    "        "
   ]
  },
  {
   "cell_type": "code",
   "execution_count": 10,
   "metadata": {
    "collapsed": false,
    "deletable": true,
    "editable": true
   },
   "outputs": [],
   "source": [
    "class Mod:\n",
    "    def __init__(self):\n",
    "        downloads = []\n",
    "    \n",
    "    async def download(self, session):\n",
    "        for download in self.downloads:\n",
    "            await download.download(self, session)\n",
    "    \n",
    "    async def preprocess(self):\n",
    "        \"\"\"extracting from archives, binary patching vanilla files.\"\"\"\n",
    "        pass\n",
    "    \n",
    "    @cachedclassproperty\n",
    "    def mod_name(cls):\n",
    "        return camel2under(cls.__name__)    \n",
    "    \n",
    "    @cachedproperty\n",
    "    def mod_path(self):\n",
    "        return Config.MODS_DIR / self.mod_name\n",
    "    \n",
    "    @cachedproperty\n",
    "    def dl_path(self):\n",
    "        return Config.DOWNLOADS_DIR / self.mod_name\n",
    "    \n",
    "    def modify(self):\n",
    "        \"\"\"\n",
    "        Yield a tuple of (source path, dest_path) where source_path is an\n",
    "        absolute path and dest_path is an path relative to game.root_dir\n",
    "        \"\"\"\n",
    "        pass\n",
    "    \n",
    "    async def postprocess(self):\n",
    "        \"\"\"Edit ini files, I/O unintensive stuff that must be performed after modify.\"\"\"\n",
    "        pass"
   ]
  },
  {
   "cell_type": "code",
   "execution_count": 5,
   "metadata": {
    "collapsed": false,
    "deletable": true,
    "editable": true
   },
   "outputs": [],
   "source": [
    "@async_contextmanager      \n",
    "async def fetch(session, url, timeout=10):\n",
    "    with async_timeout.timeout(timeout):\n",
    "        async with session.get(url) as response:\n",
    "            yield response\n",
    "            \n",
    "async def chunked(response, chunk_size):\n",
    "    while True:\n",
    "        chunk = await response.content.read(chunk_size)\n",
    "        if not chunk:\n",
    "            break\n",
    "        yield chunk"
   ]
  },
  {
   "cell_type": "code",
   "execution_count": 6,
   "metadata": {
    "collapsed": false,
    "deletable": true,
    "editable": true
   },
   "outputs": [],
   "source": [
    "DownloadInfo = namedtuple('DownloadInfo', ('url', 'filename', 'size', 'sha256'))\n",
    "class Download:\n",
    "    def __init__(self, url):\n",
    "        self.url = url\n",
    "        self.dl_info = None\n",
    "        \n",
    "    async def download(self, mod, session, force=False):\n",
    "        try:\n",
    "            self.dl_info = Config.downloads_db[(type(self.name), self.url)]\n",
    "        except KeyError:\n",
    "            pass\n",
    "        \n",
    "        async with fetch(session, self.url) as response:          \n",
    "            if self.dl_info:\n",
    "                dl_filename = self.dl_info.filename\n",
    "                dl_size = self.dl_info.size\n",
    "            else:\n",
    "                try:\n",
    "                    dispo = response.headers['Content-Disposition']\n",
    "                    _, dl_filename = dispo.split('filename=')\n",
    "                    if dl_filename.startswith(('\"',\"'\")):\n",
    "                        dl_filename = localName[1:-1]\n",
    "                except:\n",
    "                    *_, dl_filename = urllib.parse.urlparse(self.url).path.split('/')\n",
    "                \n",
    "                dl_size = response.headers.get('Context-Size')\n",
    "           \n",
    "                \n",
    "            dl_path = mod.dl_path / dl_filename\n",
    "            if self.dl_info and dl_path.exists() and sha256_path(dl_path) == self.dl_info.sha256:\n",
    "                #TODO log.info\n",
    "                return\n",
    "\n",
    "            pbar = tqdm(total=dl_size)\n",
    "            dl_path.parent.mkdir(parents=True, exist_ok=True)\n",
    "            async with open_async(str(dl_path), 'wb') as f:\n",
    "                async for chunk in chunked(response, Config.CHUNK_SIZE):\n",
    "                    await f.write(chunk)\n",
    "                    pbar.update(len(chunk))\n",
    "            pbar.close()\n",
    "            \n",
    "            if not self.dl_info:\n",
    "                # TODO log.info\n",
    "                Config.downloads_db[(type(self).__name__, self.url)] = self.dl_info = DownloadInfo(\n",
    "                    url=self.url,\n",
    "                    filename=dl_filename,\n",
    "                    sha256=sha256_path(dl_path),\n",
    "                    size=dl_path.stat().st_size,\n",
    "                )"
   ]
  },
  {
   "cell_type": "code",
   "execution_count": 7,
   "metadata": {
    "collapsed": true,
    "deletable": true,
    "editable": true
   },
   "outputs": [],
   "source": [
    "class OBSE(Mod):\n",
    "    downloads = [\n",
    "        Download('http://obse.silverlock.org/download/obse_0021.zip'),\n",
    "        Download('http://obse.silverlock.org/download/obse_loader.zip'),\n",
    "    ]"
   ]
  },
  {
   "cell_type": "code",
   "execution_count": 9,
   "metadata": {
    "collapsed": false,
    "deletable": true,
    "editable": true
   },
   "outputs": [],
   "source": [
    "async def main(loop):\n",
    "    async with aiohttp.ClientSession(loop=loop) as session:\n",
    "        await OBSE().download(session)\n",
    "        \n",
    "loop = asyncio.get_event_loop()\n",
    "loop.run_until_complete(main(loop))"
   ]
  }
 ],
 "metadata": {
  "kernelspec": {
   "display_name": "Python 3",
   "language": "python",
   "name": "python3"
  },
  "language_info": {
   "codemirror_mode": {
    "name": "ipython",
    "version": 3
   },
   "file_extension": ".py",
   "mimetype": "text/x-python",
   "name": "python",
   "nbconvert_exporter": "python",
   "pygments_lexer": "ipython3",
   "version": "3.6.0"
  },
  "widgets": {
   "state": {
    "3811e31fa6c34cf09725ba1237876983": {
     "views": [
      {
       "cell_index": 7
      }
     ]
    }
   },
   "version": "1.2.0"
  }
 },
 "nbformat": 4,
 "nbformat_minor": 2
}
